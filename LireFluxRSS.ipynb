{
  "nbformat": 4,
  "nbformat_minor": 0,
  "metadata": {
    "colab": {
      "name": "LireFluxRSS.ipynb",
      "provenance": [],
      "authorship_tag": "ABX9TyMEpMublTmm+lUy5ERIcMDm",
      "include_colab_link": true
    },
    "kernelspec": {
      "name": "python3",
      "display_name": "Python 3"
    },
    "language_info": {
      "name": "python"
    }
  },
  "cells": [
    {
      "cell_type": "markdown",
      "metadata": {
        "id": "view-in-github",
        "colab_type": "text"
      },
      "source": [
        "<a href=\"https://colab.research.google.com/github/datathinkr/VeilleCommerciale/blob/master/LireFluxRSS.ipynb\" target=\"_parent\"><img src=\"https://colab.research.google.com/assets/colab-badge.svg\" alt=\"Open In Colab\"/></a>"
      ]
    },
    {
      "cell_type": "code",
      "execution_count": 1,
      "metadata": {
        "id": "0lcbeMRmblVx"
      },
      "outputs": [],
      "source": [
        "#@title Titre par défaut\n",
        "  "
      ]
    },
    {
      "cell_type": "code",
      "source": [
        ""
      ],
      "metadata": {
        "id": "bxIkQpo6dzKQ"
      },
      "execution_count": null,
      "outputs": []
    }
  ]
}