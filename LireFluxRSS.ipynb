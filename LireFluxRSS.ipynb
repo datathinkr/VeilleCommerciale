{
  "nbformat": 4,
  "nbformat_minor": 0,
  "metadata": {
    "colab": {
      "name": "LireFluxRSS.ipynb",
      "provenance": [],
      "authorship_tag": "ABX9TyMGMTedELpfjhYNFtJgiGck",
      "include_colab_link": true
    },
    "kernelspec": {
      "name": "python3",
      "display_name": "Python 3"
    },
    "language_info": {
      "name": "python"
    }
  },
  "cells": [
    {
      "cell_type": "markdown",
      "metadata": {
        "id": "view-in-github",
        "colab_type": "text"
      },
      "source": [
        "<a href=\"https://colab.research.google.com/github/datathinkr/VeilleCommerciale/blob/master/LireFluxRSS.ipynb\" target=\"_parent\"><img src=\"https://colab.research.google.com/assets/colab-badge.svg\" alt=\"Open In Colab\"/></a>"
      ]
    },
    {
      "cell_type": "markdown",
      "source": [
        "Lire un flux RSS inoreader"
      ],
      "metadata": {
        "id": "yOQVXFXVeAo6"
      }
    },
    {
      "cell_type": "markdown",
      "source": [
        "Installer feedparser"
      ],
      "metadata": {
        "id": "vawMr0btGrqD"
      }
    },
    {
      "cell_type": "code",
      "source": [
        "pip install feedparser"
      ],
      "metadata": {
        "colab": {
          "base_uri": "https://localhost:8080/"
        },
        "id": "7UAJdek1eKOU",
        "outputId": "d90c55c3-9e07-47fa-e1dd-e4fd27d5802d"
      },
      "execution_count": 1,
      "outputs": [
        {
          "output_type": "stream",
          "name": "stdout",
          "text": [
            "Collecting feedparser\n",
            "  Downloading feedparser-6.0.8-py3-none-any.whl (81 kB)\n",
            "\u001b[?25l\r\u001b[K     |████                            | 10 kB 26.9 MB/s eta 0:00:01\r\u001b[K     |████████                        | 20 kB 26.6 MB/s eta 0:00:01\r\u001b[K     |████████████▏                   | 30 kB 13.5 MB/s eta 0:00:01\r\u001b[K     |████████████████▏               | 40 kB 10.8 MB/s eta 0:00:01\r\u001b[K     |████████████████████▏           | 51 kB 5.7 MB/s eta 0:00:01\r\u001b[K     |████████████████████████▎       | 61 kB 6.2 MB/s eta 0:00:01\r\u001b[K     |████████████████████████████▎   | 71 kB 6.0 MB/s eta 0:00:01\r\u001b[K     |████████████████████████████████| 81 kB 4.4 MB/s \n",
            "\u001b[?25hCollecting sgmllib3k\n",
            "  Downloading sgmllib3k-1.0.0.tar.gz (5.8 kB)\n",
            "Building wheels for collected packages: sgmllib3k\n",
            "  Building wheel for sgmllib3k (setup.py) ... \u001b[?25l\u001b[?25hdone\n",
            "  Created wheel for sgmllib3k: filename=sgmllib3k-1.0.0-py3-none-any.whl size=6066 sha256=d904762b77a04ce2df60c943f25d0a1a7c23de9c8399ba8e7b1ff2d1cf8f2490\n",
            "  Stored in directory: /root/.cache/pip/wheels/73/ad/a4/0dff4a6ef231fc0dfa12ffbac2a36cebfdddfe059f50e019aa\n",
            "Successfully built sgmllib3k\n",
            "Installing collected packages: sgmllib3k, feedparser\n",
            "Successfully installed feedparser-6.0.8 sgmllib3k-1.0.0\n"
          ]
        }
      ]
    },
    {
      "cell_type": "code",
      "source": [
        "import feedparser\n",
        "\n",
        "# Création d'une instance\n",
        "news_feed = feedparser.parse('https://www.inoreader.com/stream/user/1004686836/tag/changement%20de%20poste')"
      ],
      "metadata": {
        "id": "apqbduoOGwK8"
      },
      "execution_count": 4,
      "outputs": []
    },
    {
      "cell_type": "code",
      "source": [
        "# Propriétés du flux\n",
        "print(news_feed.feed.keys())\n",
        "\n",
        "# Titre du flux\n",
        "print(\"Feed Title:\", news_feed.feed.title) \n",
        "\n",
        "# Sous-titre du flux\n",
        "# print(\"Feed Subtitle:\", news_feed.feed.subtitle)\n",
        "\n",
        "# Lien du flux\n",
        "# print(\"Feed Link:\", news_feed.feed.link, \"\\n\")\n",
        "\n",
        "# Propriétés de chaque item du flux\n",
        "print(news_feed.entries[0].keys())\n",
        "\n",
        "# for entry in news_feed.entries:\n",
        "#     print(f\"{entry.title} --> {entry.link}\")\n",
        "    \n",
        "# Récupération du deernier feed (dernier bulletin CERT-FR)\n",
        "for i in range(0, len(news_feed.entries)):\n",
        "    if i == (len(news_feed.entries)-1):\n",
        "        print(\"Alert: {} \\nLink: {}\".format(news_feed.entries[0]['title'], news_feed.entries[0]['published']))"
      ],
      "metadata": {
        "colab": {
          "base_uri": "https://localhost:8080/"
        },
        "id": "4a-yu_HGG9no",
        "outputId": "ff9137f2-43e5-4387-d7d2-e1903515f75a"
      },
      "execution_count": 16,
      "outputs": [
        {
          "output_type": "stream",
          "name": "stdout",
          "text": [
            "dict_keys(['title', 'title_detail', 'links', 'link', 'subtitle', 'subtitle_detail', 'generator_detail', 'generator', 'published', 'published_parsed', 'updated', 'updated_parsed', 'language'])\n",
            "Feed Title: changement de poste via GFT France on Inoreader\n",
            "dict_keys(['title', 'title_detail', 'links', 'link', 'summary', 'summary_detail', 'published', 'published_parsed', 'tags', 'authors', 'author', 'source', 'id', 'guidislink'])\n",
            "Alert: Courtage : Diot-Siaci dévoile l'organisation de sa direction IARDT \n",
            "Link: Wed, 09 Feb 2022 15:03:00 +0000\n"
          ]
        }
      ]
    }
  ]
}